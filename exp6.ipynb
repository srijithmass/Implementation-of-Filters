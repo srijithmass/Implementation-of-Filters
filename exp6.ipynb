{
 "cells": [
  {
   "cell_type": "code",
   "execution_count": 11,
   "id": "723bb9e4",
   "metadata": {},
   "outputs": [],
   "source": [
    "import cv2\n",
    "import numpy as np\n",
    "image = cv2.imread(\"NEON.jpg\")\n",
    "original_image = image\n",
    "cv2.imshow('original',original_image)\n",
    "\n",
    "cv2.waitKey(0)\n",
    "cv2.destroyAllWindows()"
   ]
  },
  {
   "cell_type": "code",
   "execution_count": 12,
   "id": "66dd7573",
   "metadata": {},
   "outputs": [],
   "source": [
    "kernel1 = np.ones((11,11),np.float32)/121\n",
    "box_filter = cv2.filter2D(original_image,-1,kernel2)\n",
    "cv2.imshow('box_filter',box_filter)\n",
    "\n",
    "cv2.waitKey(0)\n",
    "cv2.destroyAllWindows()"
   ]
  },
  {
   "cell_type": "code",
   "execution_count": 13,
   "id": "a6c0ffc2",
   "metadata": {},
   "outputs": [],
   "source": [
    "kernel2 = np.array([[1,2,1],[2,4,2],[1,2,1]])/16\n",
    "weighted_filter = cv2.filter2D(original_image,-1,kernel2)\n",
    "cv2.imshow('weighted_filter',weighted_filter)\n",
    "\n",
    "cv2.waitKey(0)\n",
    "cv2.destroyAllWindows()"
   ]
  },
  {
   "cell_type": "code",
   "execution_count": 14,
   "id": "17ad719d",
   "metadata": {},
   "outputs": [],
   "source": [
    "gaussian_blur = cv2.GaussianBlur(src = original_image, ksize = (11,11), sigmaX=0, sigmaY=0)\n",
    "cv2.imshow('gaussian_filter',gaussian_blur)\n",
    "\n",
    "cv2.waitKey(0)\n",
    "cv2.destroyAllWindows()"
   ]
  },
  {
   "cell_type": "code",
   "execution_count": 15,
   "id": "164cfd0a",
   "metadata": {},
   "outputs": [],
   "source": [
    "median = cv2.medianBlur(src=original_image,ksize = 11)\n",
    "cv2.imshow('median_filter',median)\n",
    "\n",
    "cv2.waitKey(0)\n",
    "cv2.destroyAllWindows()"
   ]
  },
  {
   "cell_type": "code",
   "execution_count": 16,
   "id": "3a8192f9",
   "metadata": {},
   "outputs": [],
   "source": [
    "kernel3 = np.array([[0,1,0],[1,-4,1],[0,1,0]])\n",
    "laplacian_kernel = cv2.filter2D(original_image,-1,kernel3)\n",
    "cv2.imshow('laplacian_kernel',laplacian_kernel)\n",
    "\n",
    "cv2.waitKey(0)\n",
    "cv2.destroyAllWindows()"
   ]
  },
  {
   "cell_type": "code",
   "execution_count": 17,
   "id": "330ab5bb",
   "metadata": {},
   "outputs": [],
   "source": [
    "laplacian_operator = cv2.Laplacian(original_image,cv2.CV_64F)\n",
    "cv2.imshow('laplacian_operator',laplacian_operator)\n",
    "\n",
    "cv2.waitKey(0)\n",
    "cv2.destroyAllWindows()"
   ]
  },
  {
   "cell_type": "code",
   "execution_count": null,
   "id": "0e4de894",
   "metadata": {},
   "outputs": [],
   "source": []
  }
 ],
 "metadata": {
  "kernelspec": {
   "display_name": "Python 3 (ipykernel)",
   "language": "python",
   "name": "python3"
  },
  "language_info": {
   "codemirror_mode": {
    "name": "ipython",
    "version": 3
   },
   "file_extension": ".py",
   "mimetype": "text/x-python",
   "name": "python",
   "nbconvert_exporter": "python",
   "pygments_lexer": "ipython3",
   "version": "3.10.10"
  }
 },
 "nbformat": 4,
 "nbformat_minor": 5
}
